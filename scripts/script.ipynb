{
 "cells": [
  {
   "cell_type": "code",
   "execution_count": 2,
   "id": "0405aa5a",
   "metadata": {},
   "outputs": [],
   "source": [
    "\n",
    "import sqlite3\n",
    "from sqlite3 import Error\n",
    "import os"
   ]
  },
  {
   "cell_type": "code",
   "execution_count": 4,
   "id": "953675f5",
   "metadata": {},
   "outputs": [
    {
     "ename": "AttributeError",
     "evalue": "module 'numpy.random' has no attribute 'Generator'",
     "output_type": "error",
     "traceback": [
      "\u001b[1;31m---------------------------------------------------------------------------\u001b[0m",
      "\u001b[1;31mAttributeError\u001b[0m                            Traceback (most recent call last)",
      "\u001b[1;32mC:\\Users\\RANADE~1\\AppData\\Local\\Temp/ipykernel_8464/4080736814.py\u001b[0m in \u001b[0;36m<module>\u001b[1;34m\u001b[0m\n\u001b[1;32m----> 1\u001b[1;33m \u001b[1;32mimport\u001b[0m \u001b[0mpandas\u001b[0m \u001b[1;32mas\u001b[0m \u001b[0mpd\u001b[0m\u001b[1;33m\u001b[0m\u001b[1;33m\u001b[0m\u001b[0m\n\u001b[0m",
      "\u001b[1;32m~\\anaconda3\\lib\\site-packages\\pandas\\__init__.py\u001b[0m in \u001b[0;36m<module>\u001b[1;34m\u001b[0m\n\u001b[0;32m     20\u001b[0m \u001b[1;33m\u001b[0m\u001b[0m\n\u001b[0;32m     21\u001b[0m \u001b[1;31m# numpy compat\u001b[0m\u001b[1;33m\u001b[0m\u001b[1;33m\u001b[0m\u001b[0m\n\u001b[1;32m---> 22\u001b[1;33m \u001b[1;32mfrom\u001b[0m \u001b[0mpandas\u001b[0m\u001b[1;33m.\u001b[0m\u001b[0mcompat\u001b[0m \u001b[1;32mimport\u001b[0m \u001b[0mis_numpy_dev\u001b[0m \u001b[1;32mas\u001b[0m \u001b[0m_is_numpy_dev\u001b[0m  \u001b[1;31m# pyright: ignore # noqa:F401\u001b[0m\u001b[1;33m\u001b[0m\u001b[1;33m\u001b[0m\u001b[0m\n\u001b[0m\u001b[0;32m     23\u001b[0m \u001b[1;33m\u001b[0m\u001b[0m\n\u001b[0;32m     24\u001b[0m \u001b[1;32mtry\u001b[0m\u001b[1;33m:\u001b[0m\u001b[1;33m\u001b[0m\u001b[1;33m\u001b[0m\u001b[0m\n",
      "\u001b[1;32m~\\anaconda3\\lib\\site-packages\\pandas\\compat\\__init__.py\u001b[0m in \u001b[0;36m<module>\u001b[1;34m\u001b[0m\n\u001b[0;32m     15\u001b[0m \u001b[1;32mfrom\u001b[0m \u001b[0mtyping\u001b[0m \u001b[1;32mimport\u001b[0m \u001b[0mTYPE_CHECKING\u001b[0m\u001b[1;33m\u001b[0m\u001b[1;33m\u001b[0m\u001b[0m\n\u001b[0;32m     16\u001b[0m \u001b[1;33m\u001b[0m\u001b[0m\n\u001b[1;32m---> 17\u001b[1;33m \u001b[1;32mfrom\u001b[0m \u001b[0mpandas\u001b[0m\u001b[1;33m.\u001b[0m\u001b[0m_typing\u001b[0m \u001b[1;32mimport\u001b[0m \u001b[0mF\u001b[0m\u001b[1;33m\u001b[0m\u001b[1;33m\u001b[0m\u001b[0m\n\u001b[0m\u001b[0;32m     18\u001b[0m from pandas.compat.numpy import (\n\u001b[0;32m     19\u001b[0m     \u001b[0mis_numpy_dev\u001b[0m\u001b[1;33m,\u001b[0m\u001b[1;33m\u001b[0m\u001b[1;33m\u001b[0m\u001b[0m\n",
      "\u001b[1;32m~\\anaconda3\\lib\\site-packages\\pandas\\_typing.py\u001b[0m in \u001b[0;36m<module>\u001b[1;34m\u001b[0m\n\u001b[0;32m    130\u001b[0m     \u001b[0mint\u001b[0m\u001b[1;33m,\u001b[0m\u001b[1;33m\u001b[0m\u001b[1;33m\u001b[0m\u001b[0m\n\u001b[0;32m    131\u001b[0m     \u001b[0mArrayLike\u001b[0m\u001b[1;33m,\u001b[0m\u001b[1;33m\u001b[0m\u001b[1;33m\u001b[0m\u001b[0m\n\u001b[1;32m--> 132\u001b[1;33m     \u001b[0mnp\u001b[0m\u001b[1;33m.\u001b[0m\u001b[0mrandom\u001b[0m\u001b[1;33m.\u001b[0m\u001b[0mGenerator\u001b[0m\u001b[1;33m,\u001b[0m\u001b[1;33m\u001b[0m\u001b[1;33m\u001b[0m\u001b[0m\n\u001b[0m\u001b[0;32m    133\u001b[0m     \u001b[0mnp\u001b[0m\u001b[1;33m.\u001b[0m\u001b[0mrandom\u001b[0m\u001b[1;33m.\u001b[0m\u001b[0mBitGenerator\u001b[0m\u001b[1;33m,\u001b[0m\u001b[1;33m\u001b[0m\u001b[1;33m\u001b[0m\u001b[0m\n\u001b[0;32m    134\u001b[0m     \u001b[0mnp\u001b[0m\u001b[1;33m.\u001b[0m\u001b[0mrandom\u001b[0m\u001b[1;33m.\u001b[0m\u001b[0mRandomState\u001b[0m\u001b[1;33m,\u001b[0m\u001b[1;33m\u001b[0m\u001b[1;33m\u001b[0m\u001b[0m\n",
      "\u001b[1;31mAttributeError\u001b[0m: module 'numpy.random' has no attribute 'Generator'"
     ]
    }
   ],
   "source": [
    "import pandas as pd"
   ]
  },
  {
   "cell_type": "code",
   "execution_count": 5,
   "id": "ffa20b7c",
   "metadata": {},
   "outputs": [],
   "source": [
    "\n",
    "import sqlite3\n",
    "from sqlite3 import Error\n",
    "import os\n",
    "\n",
    "def create_connection(db_file, delete_db=False):\n",
    "    \"\"\"Create or return a connection to a SQLite database.\"\"\"\n",
    "    if delete_db and os.path.exists(db_file):\n",
    "        os.remove(db_file)\n",
    "    try:\n",
    "        conn = sqlite3.connect(db_file)\n",
    "        print(\"Connection established: Database is created at\", db_file)\n",
    "        return conn\n",
    "    except Error as e:\n",
    "        print(e)\n",
    "        return None\n",
    "\n",
    "def create_table(conn, create_table_sql):\n",
    "    \"\"\"Create a table from the create_table_sql statement.\"\"\"\n",
    "    try:\n",
    "        c = conn.cursor()\n",
    "        c.execute(create_table_sql)\n",
    "        print(\"Table created successfully\")\n",
    "    except Error as e:\n",
    "        print(e)\n",
    "\n",
    "def load_data(conn, df, table_name):\n",
    "    \"\"\"Load data from a DataFrame into a specified table in the SQLite database.\"\"\"\n",
    "    try:\n",
    "        df.to_sql(table_name, conn, if_exists='append', index=False)\n",
    "        print(f\"Data loaded successfully into {table_name}\")\n",
    "    except Error as e:\n",
    "        print(e)\n",
    "\n"
   ]
  },
  {
   "cell_type": "code",
   "execution_count": 6,
   "id": "096ae501",
   "metadata": {},
   "outputs": [
    {
     "name": "stdout",
     "output_type": "stream",
     "text": [
      "Connection established: Database is created at normalise.db\n"
     ]
    }
   ],
   "source": [
    "db_file = 'normalise.db'\n",
    "conn = create_connection(db_file)\n"
   ]
  },
  {
   "cell_type": "code",
   "execution_count": null,
   "id": "312c229d",
   "metadata": {},
   "outputs": [],
   "source": []
  },
  {
   "cell_type": "code",
   "execution_count": 7,
   "id": "66533e5f",
   "metadata": {},
   "outputs": [
    {
     "name": "stdout",
     "output_type": "stream",
     "text": [
      "Table created successfully\n",
      "Table created successfully\n",
      "Table created successfully\n",
      "Table created successfully\n",
      "Table created successfully\n",
      "Table created successfully\n",
      "Table created successfully\n",
      "Table created successfully\n"
     ]
    }
   ],
   "source": [
    "def create_tables(normalized_conn):\n",
    "    # Create Athletes table\n",
    "    create_table_sql = '''\n",
    "    CREATE TABLE IF NOT EXISTS Athletes (\n",
    "        AthleteID INTEGER PRIMARY KEY,\n",
    "        Name TEXT NOT NULL,\n",
    "        Gender TEXT NOT NULL,\n",
    "        Age INTEGER\n",
    "    );\n",
    "    '''\n",
    "    create_table(normalized_conn, create_table_sql)\n",
    "    \n",
    "    # Create Sports table\n",
    "    \n",
    "    create_table_sql = \"\"\"\n",
    "        CREATE TABLE IF NOT EXISTS Teams (\n",
    "            TeamID INTEGER PRIMARY KEY,\n",
    "            Team TEXT,\n",
    "            NOC TEXT\n",
    "        );\n",
    "    \"\"\"\n",
    "    create_table(normalized_conn, create_table_sql)\n",
    "    \n",
    "    \n",
    "    \n",
    "    create_table_sql = '''\n",
    "    CREATE TABLE IF NOT EXISTS Sports (\n",
    "        SportID INTEGER PRIMARY KEY,\n",
    "        Sport TEXT NOT NULL\n",
    "    );\n",
    "    '''\n",
    "    create_table(normalized_conn, create_table_sql)\n",
    "\n",
    "    \n",
    "    # Create Venues table\n",
    "    create_table_sql = '''\n",
    "    CREATE TABLE IF NOT EXISTS Venues (\n",
    "        VenueID INTEGER PRIMARY KEY,\n",
    "        City TEXT NOT NULL\n",
    "   );\n",
    "    '''\n",
    "    create_table(normalized_conn, create_table_sql)\n",
    "    \n",
    "    # Create Events table\n",
    "    create_table_sql = '''\n",
    "    CREATE TABLE IF NOT EXISTS Events (\n",
    "        EventID INTEGER PRIMARY KEY,\n",
    "        SportID INTEGER,\n",
    "        VenueID INTEGER,\n",
    "        Event TEXT NOT NULL,\n",
    "        Year INTEGER,\n",
    "        Season TEXT,\n",
    "        FOREIGN KEY (SportID) REFERENCES Sports (SportID),\n",
    "        FOREIGN KEY (VenueID) REFERENCES Venues (VenueID)\n",
    "    );\n",
    "    '''\n",
    "    create_table(normalized_conn, create_table_sql)\n",
    "    \n",
    "\n",
    "    # Create Medals table\n",
    "    create_table_sql = '''\n",
    "    CREATE TABLE IF NOT EXISTS Medals (\n",
    "        MedalID INTEGER PRIMARY KEY,\n",
    "        MedalType TEXT NOT NULL\n",
    "    );\n",
    "    '''\n",
    "    create_table(normalized_conn, create_table_sql)\n",
    "    \n",
    "    \n",
    "\n",
    "   # Create AthleteEvents table\n",
    "    create_table_sql = '''\n",
    "    CREATE TABLE IF NOT EXISTS AthleteEvents (\n",
    "    AthleteID INTEGER,\n",
    "    EventID INTEGER,\n",
    "    MedalID INTEGER,\n",
    "    PRIMARY KEY (AthleteID,EventID,MedalID),\n",
    "    FOREIGN KEY (AthleteID) REFERENCES Athletes(AthleteID),\n",
    "    FOREIGN KEY (EventID) REFERENCES Events(EventID),\n",
    "    FOREIGN KEY (MedalID) REFERENCES Medals(MedalID)\n",
    "    );\n",
    "    '''\n",
    "    create_table(normalized_conn, create_table_sql)\n",
    "                 \n",
    "    \n",
    "\n",
    "    # Create TeamEvents table\n",
    "    create_table_sql = '''\n",
    "    CREATE TABLE IF NOT EXISTS TeamEvents (\n",
    "    TeamID INTEGER,\n",
    "    EventID INTEGER,\n",
    "    PRIMARY KEY (TeamID, EventID),\n",
    "    FOREIGN KEY (TeamID) REFERENCES Teams(TeamID),\n",
    "    FOREIGN KEY (EventID) REFERENCES Events(EventID)\n",
    "  );\n",
    "    '''\n",
    "    create_table(normalized_conn, create_table_sql)\n",
    "    \n",
    "    normalized_conn.commit()\n",
    "    \n",
    "create_tables(conn)   \n",
    "    "
   ]
  },
  {
   "cell_type": "code",
   "execution_count": 7,
   "id": "1d988095",
   "metadata": {},
   "outputs": [],
   "source": [
    "athletes = data[['Name', 'Gender', 'Age']].drop_duplicates().reset_index(drop=True)\n",
    "athletes['AthleteID'] = range(1, len(athletes) + 1)"
   ]
  },
  {
   "cell_type": "code",
   "execution_count": null,
   "id": "04bc25be",
   "metadata": {},
   "outputs": [],
   "source": [
    "athletes.to_csv('Athlete.csv', index=False)"
   ]
  },
  {
   "cell_type": "code",
   "execution_count": 8,
   "id": "c2d5ff57",
   "metadata": {},
   "outputs": [],
   "source": [
    "from IPython.display import FileLink"
   ]
  },
  {
   "cell_type": "code",
   "execution_count": 9,
   "id": "bd06fcb2",
   "metadata": {},
   "outputs": [
    {
     "data": {
      "text/html": [
       "Path (<tt>output.csv</tt>) doesn't exist. It may still be in the process of being generated, or you may have the incorrect path."
      ],
      "text/plain": [
       "C:\\Users\\Ranadeep Mahendra\\DMQL Project\\output.csv"
      ]
     },
     "execution_count": 9,
     "metadata": {},
     "output_type": "execute_result"
    }
   ],
   "source": [
    "from IPython.display import FileLink\n",
    "FileLink('output.csv')  # Creates a clickable link to download the file"
   ]
  },
  {
   "cell_type": "code",
   "execution_count": 10,
   "id": "96dac5a1",
   "metadata": {},
   "outputs": [
    {
     "ename": "NameError",
     "evalue": "name 'data' is not defined",
     "output_type": "error",
     "traceback": [
      "\u001b[1;31m---------------------------------------------------------------------------\u001b[0m",
      "\u001b[1;31mNameError\u001b[0m                                 Traceback (most recent call last)",
      "\u001b[1;32mC:\\Users\\RANADE~1\\AppData\\Local\\Temp/ipykernel_8464/111284074.py\u001b[0m in \u001b[0;36m<module>\u001b[1;34m\u001b[0m\n\u001b[1;32m----> 1\u001b[1;33m \u001b[0mteam_data\u001b[0m \u001b[1;33m=\u001b[0m \u001b[0mdata\u001b[0m\u001b[1;33m[\u001b[0m\u001b[1;33m[\u001b[0m\u001b[1;34m'Team'\u001b[0m\u001b[1;33m,\u001b[0m \u001b[1;34m'NOC'\u001b[0m\u001b[1;33m]\u001b[0m\u001b[1;33m]\u001b[0m\u001b[1;33m.\u001b[0m\u001b[0mdrop_duplicates\u001b[0m\u001b[1;33m(\u001b[0m\u001b[1;33m)\u001b[0m\u001b[1;33m.\u001b[0m\u001b[0mreset_index\u001b[0m\u001b[1;33m(\u001b[0m\u001b[0mdrop\u001b[0m\u001b[1;33m=\u001b[0m\u001b[1;32mTrue\u001b[0m\u001b[1;33m)\u001b[0m\u001b[1;33m\u001b[0m\u001b[1;33m\u001b[0m\u001b[0m\n\u001b[0m\u001b[0;32m      2\u001b[0m \u001b[0mteam_data\u001b[0m\u001b[1;33m[\u001b[0m\u001b[1;34m'TeamID'\u001b[0m\u001b[1;33m]\u001b[0m \u001b[1;33m=\u001b[0m \u001b[0mrange\u001b[0m\u001b[1;33m(\u001b[0m\u001b[1;36m1\u001b[0m\u001b[1;33m,\u001b[0m \u001b[0mlen\u001b[0m\u001b[1;33m(\u001b[0m\u001b[0mteam_data\u001b[0m\u001b[1;33m)\u001b[0m \u001b[1;33m+\u001b[0m \u001b[1;36m1\u001b[0m\u001b[1;33m)\u001b[0m\u001b[1;33m\u001b[0m\u001b[1;33m\u001b[0m\u001b[0m\n\u001b[0;32m      3\u001b[0m \u001b[1;33m\u001b[0m\u001b[0m\n\u001b[0;32m      4\u001b[0m \u001b[0msport_data\u001b[0m \u001b[1;33m=\u001b[0m \u001b[0mdata\u001b[0m\u001b[1;33m[\u001b[0m\u001b[1;33m[\u001b[0m\u001b[1;34m'Sport'\u001b[0m\u001b[1;33m]\u001b[0m\u001b[1;33m]\u001b[0m\u001b[1;33m.\u001b[0m\u001b[0mdrop_duplicates\u001b[0m\u001b[1;33m(\u001b[0m\u001b[1;33m)\u001b[0m\u001b[1;33m.\u001b[0m\u001b[0mreset_index\u001b[0m\u001b[1;33m(\u001b[0m\u001b[0mdrop\u001b[0m\u001b[1;33m=\u001b[0m\u001b[1;32mTrue\u001b[0m\u001b[1;33m)\u001b[0m\u001b[1;33m\u001b[0m\u001b[1;33m\u001b[0m\u001b[0m\n\u001b[0;32m      5\u001b[0m \u001b[0msport_data\u001b[0m\u001b[1;33m[\u001b[0m\u001b[1;34m'SportID'\u001b[0m\u001b[1;33m]\u001b[0m \u001b[1;33m=\u001b[0m \u001b[0mrange\u001b[0m\u001b[1;33m(\u001b[0m\u001b[1;36m1\u001b[0m\u001b[1;33m,\u001b[0m \u001b[0mlen\u001b[0m\u001b[1;33m(\u001b[0m\u001b[0msport_data\u001b[0m\u001b[1;33m)\u001b[0m \u001b[1;33m+\u001b[0m \u001b[1;36m1\u001b[0m\u001b[1;33m)\u001b[0m\u001b[1;33m\u001b[0m\u001b[1;33m\u001b[0m\u001b[0m\n",
      "\u001b[1;31mNameError\u001b[0m: name 'data' is not defined"
     ]
    }
   ],
   "source": [
    "\n",
    "\n",
    "\n",
    "team_data = data[['Team', 'NOC']].drop_duplicates().reset_index(drop=True)\n",
    "team_data['TeamID'] = range(1, len(team_data) + 1)\n",
    "\n",
    "sport_data = data[['Sport']].drop_duplicates().reset_index(drop=True)\n",
    "sport_data['SportID'] = range(1, len(sport_data) + 1)\n",
    "\n",
    "venue_data = data[['City']].drop_duplicates().reset_index(drop=True)\n",
    "venue_data['VenueID'] = range(1, len(venue_data) + 1)\n",
    "\n",
    "event_data = data[['Event', 'Sport', 'City', 'Year', 'Season']].drop_duplicates().reset_index(drop=True)\n",
    "event_data['EventID'] = range(1, len(event_data) + 1)\n",
    "event_data = pd.merge(event_data, sport_data[['Sport', 'SportID']], on='Sport', how='left')\n",
    "event_data = pd.merge(event_data, venue_data[['City', 'VenueID']], on='City', how='left')\n",
    "\n",
    "\n",
    "medal_data = data[data['Medal'].notna()]\n",
    "unique_medals = medal_data['Medal'].drop_duplicates().reset_index(drop=True).reset_index()\n",
    "unique_medals.rename(columns={'index': 'MedalID', 'Medal': 'MedalType'}, inplace=True)\n",
    "\n",
    "\n",
    "# Merge to link MedalID\n",
    "medal_data = pd.merge(medal_data, unique_medals, left_on='Medal', right_on='MedalType')\n",
    "\n",
    "# Merge to link AthleteID and EventID\n",
    "medal_data = pd.merge(medal_data, athletes, on=['Name', 'Gender', 'Age'])\n",
    "medal_data = pd.merge(medal_data, event_data, on=['Event', 'Sport', 'Year', 'Season', 'City'])\n",
    "\n",
    "# Select the relevant columns\n",
    "athlete_events = medal_data[['AthleteID', 'EventID', 'MedalID']]\n",
    "\n",
    "# Remove duplicates from the athlete_events DataFrame\n",
    "athlete_events = athlete_events.drop_duplicates(subset=['AthleteID', 'EventID', 'MedalID'], keep='first')\n",
    "\n",
    "\n",
    "team_events = pd.merge(data, team_data, on=['Team', 'NOC'])\n",
    "team_events = pd.merge(team_events, event_data, on=['Event', 'Sport', 'Year', 'Season', 'City'])\n",
    "\n",
    "# Selecting relevant columns for the TeamEvents table\n",
    "team_events = team_events[['TeamID', 'EventID']].drop_duplicates()"
   ]
  },
  {
   "cell_type": "code",
   "execution_count": 9,
   "id": "1910eb3f",
   "metadata": {},
   "outputs": [
    {
     "data": {
      "text/html": [
       "<div>\n",
       "<style scoped>\n",
       "    .dataframe tbody tr th:only-of-type {\n",
       "        vertical-align: middle;\n",
       "    }\n",
       "\n",
       "    .dataframe tbody tr th {\n",
       "        vertical-align: top;\n",
       "    }\n",
       "\n",
       "    .dataframe thead th {\n",
       "        text-align: right;\n",
       "    }\n",
       "</style>\n",
       "<table border=\"1\" class=\"dataframe\">\n",
       "  <thead>\n",
       "    <tr style=\"text-align: right;\">\n",
       "      <th></th>\n",
       "      <th>AthleteID</th>\n",
       "      <th>EventID</th>\n",
       "      <th>MedalID</th>\n",
       "    </tr>\n",
       "  </thead>\n",
       "  <tbody>\n",
       "    <tr>\n",
       "      <th>0</th>\n",
       "      <td>4</td>\n",
       "      <td>4</td>\n",
       "      <td>0</td>\n",
       "    </tr>\n",
       "    <tr>\n",
       "      <th>1</th>\n",
       "      <td>26388</td>\n",
       "      <td>4</td>\n",
       "      <td>2</td>\n",
       "    </tr>\n",
       "    <tr>\n",
       "      <th>2</th>\n",
       "      <td>49004</td>\n",
       "      <td>4</td>\n",
       "      <td>2</td>\n",
       "    </tr>\n",
       "    <tr>\n",
       "      <th>3</th>\n",
       "      <td>101007</td>\n",
       "      <td>4</td>\n",
       "      <td>0</td>\n",
       "    </tr>\n",
       "    <tr>\n",
       "      <th>4</th>\n",
       "      <td>123872</td>\n",
       "      <td>4</td>\n",
       "      <td>2</td>\n",
       "    </tr>\n",
       "    <tr>\n",
       "      <th>...</th>\n",
       "      <td>...</td>\n",
       "      <td>...</td>\n",
       "      <td>...</td>\n",
       "    </tr>\n",
       "    <tr>\n",
       "      <th>42227</th>\n",
       "      <td>196312</td>\n",
       "      <td>5592</td>\n",
       "      <td>1</td>\n",
       "    </tr>\n",
       "    <tr>\n",
       "      <th>42228</th>\n",
       "      <td>174964</td>\n",
       "      <td>5592</td>\n",
       "      <td>2</td>\n",
       "    </tr>\n",
       "    <tr>\n",
       "      <th>42229</th>\n",
       "      <td>30692</td>\n",
       "      <td>5073</td>\n",
       "      <td>2</td>\n",
       "    </tr>\n",
       "    <tr>\n",
       "      <th>42230</th>\n",
       "      <td>129633</td>\n",
       "      <td>5239</td>\n",
       "      <td>2</td>\n",
       "    </tr>\n",
       "    <tr>\n",
       "      <th>42231</th>\n",
       "      <td>135824</td>\n",
       "      <td>4487</td>\n",
       "      <td>2</td>\n",
       "    </tr>\n",
       "  </tbody>\n",
       "</table>\n",
       "<p>42220 rows × 3 columns</p>\n",
       "</div>"
      ],
      "text/plain": [
       "       AthleteID  EventID  MedalID\n",
       "0              4        4        0\n",
       "1          26388        4        2\n",
       "2          49004        4        2\n",
       "3         101007        4        0\n",
       "4         123872        4        2\n",
       "...          ...      ...      ...\n",
       "42227     196312     5592        1\n",
       "42228     174964     5592        2\n",
       "42229      30692     5073        2\n",
       "42230     129633     5239        2\n",
       "42231     135824     4487        2\n",
       "\n",
       "[42220 rows x 3 columns]"
      ]
     },
     "execution_count": 9,
     "metadata": {},
     "output_type": "execute_result"
    }
   ],
   "source": [
    "\n",
    "athlete_events"
   ]
  },
  {
   "cell_type": "code",
   "execution_count": 8,
   "id": "4d0df706",
   "metadata": {},
   "outputs": [
    {
     "name": "stdout",
     "output_type": "stream",
     "text": [
      "Data loaded successfully into Athletes\n",
      "Data loaded successfully into Teams\n",
      "Data loaded successfully into Sports\n",
      "Data loaded successfully into Venues\n",
      "Data loaded successfully into Events\n",
      "Data loaded successfully into Medals\n",
      "Data loaded successfully into AthleteEvents\n",
      "Data loaded successfully into TeamEvents\n",
      "All operations completed successfully, and all tables are loaded.\n"
     ]
    }
   ],
   "source": [
    "\n",
    "\n",
    "load_data(conn, athletes, 'Athletes')\n",
    "load_data(conn, team_data, 'Teams')\n",
    "load_data(conn, sport_data, 'Sports')\n",
    "load_data(conn, venue_data, 'Venues')\n",
    "load_data(conn, event_data[['EventID', 'SportID','VenueID', 'Event', 'Year', 'Season']], 'Events')\n",
    "load_data(conn,unique_medals,'Medals')\n",
    "load_data(conn, athlete_events ,'AthleteEvents')\n",
    "load_data(conn, team_events ,'TeamEvents')\n",
    "\n",
    "#load_data(conn, team_events_data[['TeamID', 'EventID', 'Medal']], 'TeamEvents')\n",
    "\n",
    "conn.commit()\n",
    "\n",
    "print(\"All operations completed successfully, and all tables are loaded.\")"
   ]
  },
  {
   "cell_type": "code",
   "execution_count": 13,
   "id": "c5890e30",
   "metadata": {},
   "outputs": [],
   "source": [
    "team_data.to_csv('Teams.csv', index=False)"
   ]
  },
  {
   "cell_type": "code",
   "execution_count": 21,
   "id": "367a2a6a",
   "metadata": {},
   "outputs": [],
   "source": [
    "team_events.to_csv('TeamEvents.csv', index=False)"
   ]
  },
  {
   "cell_type": "code",
   "execution_count": 18,
   "id": "9f3ece88",
   "metadata": {},
   "outputs": [],
   "source": [
    "event_data[['EventID', 'SportID','VenueID', 'Event', 'Year', 'Season']].to_csv('Events.csv', index=False)"
   ]
  },
  {
   "cell_type": "code",
   "execution_count": null,
   "id": "e859e0f1",
   "metadata": {},
   "outputs": [],
   "source": []
  }
 ],
 "metadata": {
  "kernelspec": {
   "display_name": "Python 3 (ipykernel)",
   "language": "python",
   "name": "python3"
  },
  "language_info": {
   "codemirror_mode": {
    "name": "ipython",
    "version": 3
   },
   "file_extension": ".py",
   "mimetype": "text/x-python",
   "name": "python",
   "nbconvert_exporter": "python",
   "pygments_lexer": "ipython3",
   "version": "3.9.7"
  }
 },
 "nbformat": 4,
 "nbformat_minor": 5
}
